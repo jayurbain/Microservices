{
 "cells": [
  {
   "cell_type": "markdown",
   "id": "8ff41f5d",
   "metadata": {},
   "source": [
    "## Pyspark Introduction\n",
    "\n",
    "\n",
    "Jay Urbain, PhD   \n",
    "3/15/2024\n",
    "\n",
    "PySpark documentation:   \n",
    "https://spark.apache.org/docs/latest/api/python/reference/index.html \n",
    "\n",
    "Answer the TODO items."
   ]
  },
  {
   "cell_type": "markdown",
   "id": "ab60fc5e",
   "metadata": {},
   "source": [
    "First you need to make sure jupyter is using the Java installed in your environment. One of the two following options should work."
   ]
  },
  {
   "cell_type": "code",
   "execution_count": null,
   "id": "be8d412a-0414-475b-83ed-09d7f4add4a2",
   "metadata": {},
   "outputs": [],
   "source": [
    "!python --version"
   ]
  },
  {
   "cell_type": "code",
   "execution_count": null,
   "id": "d307f256",
   "metadata": {},
   "outputs": [],
   "source": [
    "# option 1\n",
    "\n",
    "import os\n",
    "\n",
    "JAVA_HOME = \"/home/jay/anaconda3/envs/pyspark\"\n",
    "# JAVA_HOME = \"/usr/bin/java\"\n",
    "\n",
    "os.environ[\"JAVA_HOME\"] = JAVA_HOME"
   ]
  },
  {
   "cell_type": "code",
   "execution_count": null,
   "id": "12c33b3d-13d0-4fd8-a1ef-4539d740668f",
   "metadata": {},
   "outputs": [],
   "source": [
    "!which java"
   ]
  },
  {
   "cell_type": "code",
   "execution_count": null,
   "id": "889921a8",
   "metadata": {},
   "outputs": [],
   "source": [
    "# option 2\n",
    "\n",
    "import sys\n",
    "sys.path.append(\"/Users/jayurbain/opt/miniconda3/envs/pyspark\") "
   ]
  },
  {
   "cell_type": "code",
   "execution_count": null,
   "id": "833d885f-4d2b-47ed-b2d6-fd91458903de",
   "metadata": {},
   "outputs": [],
   "source": [
    "!which pyspark"
   ]
  },
  {
   "cell_type": "markdown",
   "id": "923c59c3",
   "metadata": {},
   "source": [
    "Imports"
   ]
  },
  {
   "cell_type": "code",
   "execution_count": null,
   "id": "08b29f6a",
   "metadata": {},
   "outputs": [],
   "source": [
    "import pyspark\n",
    "from pyspark.sql import SparkSession\n",
    "import findspark\n",
    "import pandas as pd"
   ]
  },
  {
   "cell_type": "markdown",
   "id": "07209705",
   "metadata": {},
   "source": [
    "Set up the proper paths for Spark"
   ]
  },
  {
   "cell_type": "code",
   "execution_count": null,
   "id": "9e51e597",
   "metadata": {},
   "outputs": [],
   "source": [
    "findspark.init()\n",
    "findspark.find()"
   ]
  },
  {
   "cell_type": "markdown",
   "id": "efc97897",
   "metadata": {},
   "source": [
    "Create a Spark Session"
   ]
  },
  {
   "cell_type": "code",
   "execution_count": null,
   "id": "ce4dbc09",
   "metadata": {},
   "outputs": [],
   "source": [
    "spark=SparkSession.builder.appName('Intro').getOrCreate()"
   ]
  },
  {
   "cell_type": "code",
   "execution_count": null,
   "id": "e1de79e4",
   "metadata": {},
   "outputs": [],
   "source": [
    "type(pd.read_csv('test1.csv'))"
   ]
  },
  {
   "cell_type": "code",
   "execution_count": null,
   "id": "558caca5",
   "metadata": {},
   "outputs": [],
   "source": [
    "spark"
   ]
  },
  {
   "cell_type": "code",
   "execution_count": null,
   "id": "f7ac726b",
   "metadata": {},
   "outputs": [],
   "source": [
    "df_pyspark=spark.read.csv('test1.csv')"
   ]
  },
  {
   "cell_type": "code",
   "execution_count": null,
   "id": "6f077d49",
   "metadata": {},
   "outputs": [],
   "source": [
    "df_pyspark=spark.read.option('header','true').csv('test1.csv')"
   ]
  },
  {
   "cell_type": "code",
   "execution_count": null,
   "id": "2e0eee51",
   "metadata": {},
   "outputs": [],
   "source": [
    "type(df_pyspark)"
   ]
  },
  {
   "cell_type": "code",
   "execution_count": null,
   "id": "bb26bf24",
   "metadata": {},
   "outputs": [],
   "source": [
    "df_pyspark.printSchema()"
   ]
  },
  {
   "cell_type": "markdown",
   "id": "b0f21f52-4fd2-4020-806c-473b0aa6d46c",
   "metadata": {},
   "source": [
    "### TODO: Take a snapshot of yourself patting yourself on the back. Getting the environment right can be tricky!"
   ]
  }
 ],
 "metadata": {
  "kernelspec": {
   "display_name": "pyspark",
   "language": "python",
   "name": "pysparek"
  },
  "language_info": {
   "codemirror_mode": {
    "name": "ipython",
    "version": 3
   },
   "file_extension": ".py",
   "mimetype": "text/x-python",
   "name": "python",
   "nbconvert_exporter": "python",
   "pygments_lexer": "ipython3",
   "version": "3.12.2"
  }
 },
 "nbformat": 4,
 "nbformat_minor": 5
}
